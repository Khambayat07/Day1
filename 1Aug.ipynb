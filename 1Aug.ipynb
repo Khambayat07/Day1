{
 "cells": [
  {
   "cell_type": "markdown",
   "id": "be7b0a36-8694-45d6-ae54-fb2cd311ed6f",
   "metadata": {},
   "source": [
    "Variable And Datatypes  "
   ]
  },
  {
   "cell_type": "code",
   "execution_count": 11,
   "id": "eb43c150-428b-488d-bd32-ff171df60172",
   "metadata": {},
   "outputs": [
    {
     "name": "stdout",
     "output_type": "stream",
     "text": [
      "24 jhon\n"
     ]
    }
   ],
   "source": [
    "age= 24\n",
    "name = \"jhon\"\n",
    "print(age,name)"
   ]
  },
  {
   "cell_type": "code",
   "execution_count": 13,
   "id": "07709c9d-8064-499c-9c79-2efbdf4fefd7",
   "metadata": {},
   "outputs": [
    {
     "name": "stdout",
     "output_type": "stream",
     "text": [
      "kunal Dilip khambayat\n"
     ]
    }
   ],
   "source": [
    "x,y,z=\"kunal\",\"khambayat\",\"Dilip\"\n",
    "print(x,z,y)"
   ]
  },
  {
   "cell_type": "code",
   "execution_count": 14,
   "id": "90f87dc7-93e0-48c6-a4ad-c7de8ab69413",
   "metadata": {},
   "outputs": [
    {
     "name": "stdout",
     "output_type": "stream",
     "text": [
      "Khambayat\n"
     ]
    }
   ],
   "source": [
    "k =\"Khambayat\"\n",
    "print(k)"
   ]
  },
  {
   "cell_type": "code",
   "execution_count": 15,
   "id": "8556bf06-e0de-45b0-92b6-fd11554ee9f1",
   "metadata": {},
   "outputs": [
    {
     "name": "stdout",
     "output_type": "stream",
     "text": [
      "32\n"
     ]
    }
   ],
   "source": [
    "student=32\n",
    "print(student)"
   ]
  },
  {
   "cell_type": "code",
   "execution_count": 16,
   "id": "738b647d-4fac-4c49-8e86-a63f35f4ec85",
   "metadata": {},
   "outputs": [
    {
     "name": "stdout",
     "output_type": "stream",
     "text": [
      "239\n"
     ]
    }
   ],
   "source": [
    "_a=239\n",
    "print(_a)"
   ]
  },
  {
   "cell_type": "markdown",
   "id": "36d3e5c6-5a32-412b-a9d6-f4650103ff7f",
   "metadata": {},
   "source": [
    "## There is direct way to declare variables in python only we cant declare it through special char,symbols\n",
    " ###  we can only use (_)  char to give name to variable"
   ]
  },
  {
   "cell_type": "markdown",
   "id": "cbc9b63a-fc36-4a25-a221-e330ba5b3a99",
   "metadata": {},
   "source": [
    "# Data Types"
   ]
  },
  {
   "cell_type": "markdown",
   "id": "2582b20b-23d6-4f8e-abcf-e49fee795254",
   "metadata": {},
   "source": [
    "There are many types of datatypes python it goes as :\n",
    "\n",
    "                Text Type : \"String\"\n",
    "                Numbric Type :int,float,complex \n",
    "                Sequence Type :list,tuple,range \n",
    "                Mapping Type :Dict \n",
    "                Set Type :set,frozenset\n",
    "                Boolean Type :Bool\n",
    "                Binary type :bytes,bytearray,memoryview"
   ]
  },
  {
   "cell_type": "code",
   "execution_count": 20,
   "id": "de3b6890-3e05-4ea6-b952-8903720b9e97",
   "metadata": {},
   "outputs": [
    {
     "name": "stdout",
     "output_type": "stream",
     "text": [
      "<class 'int'>\n"
     ]
    }
   ],
   "source": [
    "w = 34\n",
    "print(type(w))"
   ]
  },
  {
   "cell_type": "code",
   "execution_count": 22,
   "id": "dd288708-34a0-4c45-9d90-b9c7b050e2ce",
   "metadata": {},
   "outputs": [
    {
     "name": "stdout",
     "output_type": "stream",
     "text": [
      "<class 'float'>\n"
     ]
    }
   ],
   "source": [
    "s = 23.68\n",
    "print(type(s))"
   ]
  },
  {
   "cell_type": "code",
   "execution_count": 24,
   "id": "69405882-f48a-413b-b351-a7a43e2c530e",
   "metadata": {},
   "outputs": [
    {
     "name": "stdout",
     "output_type": "stream",
     "text": [
      "<class 'complex'>\n"
     ]
    }
   ],
   "source": [
    "y = 2+3j\n",
    "print(type(y))"
   ]
  },
  {
   "cell_type": "code",
   "execution_count": 25,
   "id": "0f44ba22-487d-4e90-9a76-91088e4010cb",
   "metadata": {},
   "outputs": [
    {
     "name": "stdout",
     "output_type": "stream",
     "text": [
      "<class 'str'>\n"
     ]
    }
   ],
   "source": [
    "a =\"Kunal khambayat\"\n",
    "print(type(a))"
   ]
  },
  {
   "cell_type": "code",
   "execution_count": 26,
   "id": "751cc72e-42b7-4808-b146-7e5572376932",
   "metadata": {},
   "outputs": [
    {
     "name": "stdout",
     "output_type": "stream",
     "text": [
      "<class 'list'>\n"
     ]
    }
   ],
   "source": [
    "b=[1,2,23,4,4,5,6,7,8,9,]\n",
    "print(type(b))"
   ]
  },
  {
   "cell_type": "code",
   "execution_count": 27,
   "id": "f50171df-2e42-4986-80fc-297bbdbcca83",
   "metadata": {},
   "outputs": [
    {
     "name": "stdout",
     "output_type": "stream",
     "text": [
      "<class 'tuple'>\n"
     ]
    }
   ],
   "source": [
    "c=(1,2,3,4,5,6,7,8,9)\n",
    "print(type(c))"
   ]
  },
  {
   "cell_type": "markdown",
   "id": "31250011-eef5-4d98-9003-6d822346933a",
   "metadata": {},
   "source": [
    "## Operators"
   ]
  },
  {
   "cell_type": "markdown",
   "id": "3099a068-bdb6-4da7-b3dd-861d96b2c995",
   "metadata": {},
   "source": [
    "Arithmetic Operators (+,-,*,/,%,**)\n",
    "Comparison Operator (=,>,<,==,<=,>=)\n",
    "Logical Operator (and,or,not)\n",
    "Bitwise Operator()\n",
    "Assignment Operator()\n",
    "Identify And Membership Operator()\n"
   ]
  },
  {
   "cell_type": "markdown",
   "id": "10c155de-4eb9-4fd1-bd22-5ebdb891d5e4",
   "metadata": {},
   "source": [
    "###        Built-In Function"
   ]
  },
  {
   "cell_type": "markdown",
   "id": "22f9402c-8f36-474c-b641-9e73777aeb4b",
   "metadata": {},
   "source": [
    "abs Function (provide absolute value of variable)"
   ]
  },
  {
   "cell_type": "code",
   "execution_count": 28,
   "id": "639b9b19-9a4e-41a5-8ec7-33f67895403b",
   "metadata": {},
   "outputs": [
    {
     "name": "stdout",
     "output_type": "stream",
     "text": [
      "23.23\n"
     ]
    }
   ],
   "source": [
    "q= -23.230\n",
    "print(abs(q))"
   ]
  },
  {
   "cell_type": "markdown",
   "id": "32d985f0-b79a-4ed2-96cd-a5a6f16a6905",
   "metadata": {},
   "source": [
    "Binary Function  (provide binary value of variable)"
   ]
  },
  {
   "cell_type": "code",
   "execution_count": 30,
   "id": "18b3ee5c-3bd3-498d-9584-2dc264acdae1",
   "metadata": {},
   "outputs": [
    {
     "name": "stdout",
     "output_type": "stream",
     "text": [
      "0b101101\n"
     ]
    }
   ],
   "source": [
    "m = bin(45)\n",
    "print(m)"
   ]
  },
  {
   "cell_type": "code",
   "execution_count": null,
   "id": "c965020b-29a7-4601-847a-52d56e71d502",
   "metadata": {},
   "outputs": [],
   "source": [
    "Bytes Function (Provides bytes value of variable)"
   ]
  },
  {
   "cell_type": "code",
   "execution_count": 38,
   "id": "914c27c9-33c0-4cc5-a7ff-61e2f69bbceb",
   "metadata": {},
   "outputs": [
    {
     "name": "stdout",
     "output_type": "stream",
     "text": [
      "b'\\x00\\x00\\x00\\x00\\x00\\x00\\x00\\x00\\x00\\x00\\x00\\x00'\n"
     ]
    }
   ],
   "source": [
    "h = bytes(12)\n",
    "print(h)"
   ]
  },
  {
   "cell_type": "markdown",
   "id": "079b26ad-e01e-4444-a0a2-6827f257a742",
   "metadata": {},
   "source": [
    "Help Function  (Provide all the informstion about tags )"
   ]
  },
  {
   "cell_type": "code",
   "execution_count": null,
   "id": "043c4f31-ba87-474a-933e-6c63dec86d35",
   "metadata": {},
   "outputs": [
    {
     "name": "stdout",
     "output_type": "stream",
     "text": [
      "Welcome to Python 3.13's help utility! If this is your first time using\n",
      "Python, you should definitely check out the tutorial at\n",
      "https://docs.python.org/3.13/tutorial/.\n",
      "\n",
      "Enter the name of any module, keyword, or topic to get help on writing\n",
      "Python programs and using Python modules.  To get a list of available\n",
      "modules, keywords, symbols, or topics, enter \"modules\", \"keywords\",\n",
      "\"symbols\", or \"topics\".\n",
      "\n",
      "Each module also comes with a one-line summary of what it does; to list\n",
      "the modules whose name or summary contain a given string such as \"spam\",\n",
      "enter \"modules spam\".\n",
      "\n",
      "To quit this help utility and return to the interpreter,\n",
      "enter \"q\", \"quit\" or \"exit\".\n",
      "\n"
     ]
    }
   ],
   "source": [
    "# help(float)"
   ]
  },
  {
   "cell_type": "markdown",
   "id": "5702b42d-c235-43d9-835e-04cf95441cb0",
   "metadata": {},
   "source": [
    "Input Function (Get values and info from user )"
   ]
  },
  {
   "cell_type": "code",
   "execution_count": 41,
   "id": "45c3ed07-e2ba-4738-93ef-36813cef0fff",
   "metadata": {},
   "outputs": [
    {
     "name": "stdin",
     "output_type": "stream",
     "text": [
      "Enter your name here Kuanl\n"
     ]
    },
    {
     "name": "stdout",
     "output_type": "stream",
     "text": [
      "Hello  Kuanl\n"
     ]
    }
   ],
   "source": [
    "user =input(\"Enter your name here\")\n",
    "print(\"Hello \",user)"
   ]
  },
  {
   "cell_type": "code",
   "execution_count": null,
   "id": "44a06615-4d11-4c57-a00e-7045689ad8e1",
   "metadata": {},
   "outputs": [],
   "source": []
  },
  {
   "cell_type": "code",
   "execution_count": null,
   "id": "cf5c50d6-8265-46f9-a72f-d8f8f1bd0dad",
   "metadata": {},
   "outputs": [],
   "source": []
  },
  {
   "cell_type": "code",
   "execution_count": null,
   "id": "1caf4f43-8dec-4282-88c0-c53961678a70",
   "metadata": {},
   "outputs": [],
   "source": []
  },
  {
   "cell_type": "code",
   "execution_count": null,
   "id": "babbb59a-a2de-4cac-b479-d83ec67d726c",
   "metadata": {},
   "outputs": [],
   "source": []
  },
  {
   "cell_type": "code",
   "execution_count": null,
   "id": "29dded39-b64a-4260-9437-3ad0ad9f9d2f",
   "metadata": {},
   "outputs": [],
   "source": []
  },
  {
   "cell_type": "code",
   "execution_count": null,
   "id": "378bf8b0-7241-48ed-b8f7-357b2114e7f6",
   "metadata": {},
   "outputs": [],
   "source": []
  },
  {
   "cell_type": "code",
   "execution_count": null,
   "id": "d5ba6f2d-5c3b-4ed0-b76b-67499a1249f0",
   "metadata": {},
   "outputs": [],
   "source": []
  }
 ],
 "metadata": {
  "kernelspec": {
   "display_name": "Python [conda env:base] *",
   "language": "python",
   "name": "conda-base-py"
  },
  "language_info": {
   "codemirror_mode": {
    "name": "ipython",
    "version": 3
   },
   "file_extension": ".py",
   "mimetype": "text/x-python",
   "name": "python",
   "nbconvert_exporter": "python",
   "pygments_lexer": "ipython3",
   "version": "3.13.5"
  }
 },
 "nbformat": 4,
 "nbformat_minor": 5
}
