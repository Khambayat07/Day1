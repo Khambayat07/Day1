{
 "cells": [
  {
   "cell_type": "code",
   "execution_count": 3,
   "id": "e4fed7a9-8b5f-46fb-8e39-4508d4599c8f",
   "metadata": {},
   "outputs": [],
   "source": [
    "import numpy as np\n",
    "import pandas as pd\n",
    "import matplotlib.pyplot as plt\n",
    "import seaborn as sns"
   ]
  },
  {
   "cell_type": "code",
   "execution_count": 4,
   "id": "d6a1809d-eeee-4992-a982-15839cf352ba",
   "metadata": {},
   "outputs": [
    {
     "data": {
      "text/html": [
       "<div>\n",
       "<style scoped>\n",
       "    .dataframe tbody tr th:only-of-type {\n",
       "        vertical-align: middle;\n",
       "    }\n",
       "\n",
       "    .dataframe tbody tr th {\n",
       "        vertical-align: top;\n",
       "    }\n",
       "\n",
       "    .dataframe thead th {\n",
       "        text-align: right;\n",
       "    }\n",
       "</style>\n",
       "<table border=\"1\" class=\"dataframe\">\n",
       "  <thead>\n",
       "    <tr style=\"text-align: right;\">\n",
       "      <th></th>\n",
       "      <th>EEID</th>\n",
       "      <th>Full Name</th>\n",
       "      <th>Job Title</th>\n",
       "      <th>Department</th>\n",
       "      <th>Business Unit</th>\n",
       "      <th>Gender</th>\n",
       "      <th>Ethnicity</th>\n",
       "      <th>Age</th>\n",
       "      <th>Hire Date</th>\n",
       "      <th>Annual Salary</th>\n",
       "      <th>Bonus %</th>\n",
       "      <th>Country</th>\n",
       "      <th>City</th>\n",
       "      <th>Exit Date</th>\n",
       "    </tr>\n",
       "  </thead>\n",
       "  <tbody>\n",
       "    <tr>\n",
       "      <th>0</th>\n",
       "      <td>E02387</td>\n",
       "      <td>Emily Davis</td>\n",
       "      <td>Sr. Manger</td>\n",
       "      <td>IT</td>\n",
       "      <td>Research &amp; Development</td>\n",
       "      <td>Female</td>\n",
       "      <td>Black</td>\n",
       "      <td>55</td>\n",
       "      <td>2016-04-08</td>\n",
       "      <td>141604</td>\n",
       "      <td>0.15</td>\n",
       "      <td>United States</td>\n",
       "      <td>Seattle</td>\n",
       "      <td>2021-10-16</td>\n",
       "    </tr>\n",
       "    <tr>\n",
       "      <th>1</th>\n",
       "      <td>E04105</td>\n",
       "      <td>Theodore Dinh</td>\n",
       "      <td>Technical Architect</td>\n",
       "      <td>IT</td>\n",
       "      <td>Manufacturing</td>\n",
       "      <td>Male</td>\n",
       "      <td>Asian</td>\n",
       "      <td>59</td>\n",
       "      <td>1997-11-29</td>\n",
       "      <td>99975</td>\n",
       "      <td>0.00</td>\n",
       "      <td>China</td>\n",
       "      <td>Chongqing</td>\n",
       "      <td>NaT</td>\n",
       "    </tr>\n",
       "    <tr>\n",
       "      <th>2</th>\n",
       "      <td>E02572</td>\n",
       "      <td>Luna Sanders</td>\n",
       "      <td>Director</td>\n",
       "      <td>Finance</td>\n",
       "      <td>Speciality Products</td>\n",
       "      <td>Female</td>\n",
       "      <td>Caucasian</td>\n",
       "      <td>50</td>\n",
       "      <td>2006-10-26</td>\n",
       "      <td>163099</td>\n",
       "      <td>0.20</td>\n",
       "      <td>United States</td>\n",
       "      <td>Chicago</td>\n",
       "      <td>NaT</td>\n",
       "    </tr>\n",
       "    <tr>\n",
       "      <th>3</th>\n",
       "      <td>E02832</td>\n",
       "      <td>Penelope Jordan</td>\n",
       "      <td>Computer Systems Manager</td>\n",
       "      <td>IT</td>\n",
       "      <td>Manufacturing</td>\n",
       "      <td>Female</td>\n",
       "      <td>Caucasian</td>\n",
       "      <td>26</td>\n",
       "      <td>2019-09-27</td>\n",
       "      <td>84913</td>\n",
       "      <td>0.07</td>\n",
       "      <td>United States</td>\n",
       "      <td>Chicago</td>\n",
       "      <td>NaT</td>\n",
       "    </tr>\n",
       "    <tr>\n",
       "      <th>4</th>\n",
       "      <td>E01639</td>\n",
       "      <td>Austin Vo</td>\n",
       "      <td>Sr. Analyst</td>\n",
       "      <td>Finance</td>\n",
       "      <td>Manufacturing</td>\n",
       "      <td>Male</td>\n",
       "      <td>Asian</td>\n",
       "      <td>55</td>\n",
       "      <td>1995-11-20</td>\n",
       "      <td>95409</td>\n",
       "      <td>0.00</td>\n",
       "      <td>United States</td>\n",
       "      <td>Phoenix</td>\n",
       "      <td>NaT</td>\n",
       "    </tr>\n",
       "  </tbody>\n",
       "</table>\n",
       "</div>"
      ],
      "text/plain": [
       "     EEID        Full Name                 Job Title Department  \\\n",
       "0  E02387      Emily Davis                Sr. Manger         IT   \n",
       "1  E04105    Theodore Dinh       Technical Architect         IT   \n",
       "2  E02572     Luna Sanders                  Director    Finance   \n",
       "3  E02832  Penelope Jordan  Computer Systems Manager         IT   \n",
       "4  E01639        Austin Vo               Sr. Analyst    Finance   \n",
       "\n",
       "            Business Unit  Gender  Ethnicity  Age  Hire Date  Annual Salary  \\\n",
       "0  Research & Development  Female      Black   55 2016-04-08         141604   \n",
       "1           Manufacturing    Male      Asian   59 1997-11-29          99975   \n",
       "2     Speciality Products  Female  Caucasian   50 2006-10-26         163099   \n",
       "3           Manufacturing  Female  Caucasian   26 2019-09-27          84913   \n",
       "4           Manufacturing    Male      Asian   55 1995-11-20          95409   \n",
       "\n",
       "   Bonus %        Country       City  Exit Date  \n",
       "0     0.15  United States    Seattle 2021-10-16  \n",
       "1     0.00          China  Chongqing        NaT  \n",
       "2     0.20  United States    Chicago        NaT  \n",
       "3     0.07  United States    Chicago        NaT  \n",
       "4     0.00  United States    Phoenix        NaT  "
      ]
     },
     "execution_count": 4,
     "metadata": {},
     "output_type": "execute_result"
    }
   ],
   "source": [
    "df=pd.read_excel(\"Employee Sample Data.xlsx\")\n",
    "df.head()"
   ]
  },
  {
   "cell_type": "code",
   "execution_count": 10,
   "id": "16a4d332-00df-457c-a761-ed09881840e8",
   "metadata": {},
   "outputs": [
    {
     "data": {
      "text/plain": [
       "np.int64(915)"
      ]
     },
     "execution_count": 10,
     "metadata": {},
     "output_type": "execute_result"
    }
   ],
   "source": [
    "df.isnull().sum().sum()"
   ]
  },
  {
   "cell_type": "code",
   "execution_count": 1,
   "id": "212de5e6-e2ea-4657-a3a8-3c185693ce29",
   "metadata": {},
   "outputs": [
    {
     "ename": "NameError",
     "evalue": "name 'df' is not defined",
     "output_type": "error",
     "traceback": [
      "\u001b[1;31m---------------------------------------------------------------------------\u001b[0m",
      "\u001b[1;31mNameError\u001b[0m                                 Traceback (most recent call last)",
      "Cell \u001b[1;32mIn[1], line 1\u001b[0m\n\u001b[1;32m----> 1\u001b[0m df[\u001b[38;5;124m\"\u001b[39m\u001b[38;5;124mExit Date\u001b[39m\u001b[38;5;124m\"\u001b[39m]\n",
      "\u001b[1;31mNameError\u001b[0m: name 'df' is not defined"
     ]
    }
   ],
   "source": [
    "df[\"Exit Date\"]"
   ]
  },
  {
   "cell_type": "code",
   "execution_count": 17,
   "id": "87b17ad3-36ad-47ac-a91a-f48e79403494",
   "metadata": {},
   "outputs": [
    {
     "data": {
      "text/html": [
       "<div>\n",
       "<style scoped>\n",
       "    .dataframe tbody tr th:only-of-type {\n",
       "        vertical-align: middle;\n",
       "    }\n",
       "\n",
       "    .dataframe tbody tr th {\n",
       "        vertical-align: top;\n",
       "    }\n",
       "\n",
       "    .dataframe thead th {\n",
       "        text-align: right;\n",
       "    }\n",
       "</style>\n",
       "<table border=\"1\" class=\"dataframe\">\n",
       "  <thead>\n",
       "    <tr style=\"text-align: right;\">\n",
       "      <th></th>\n",
       "      <th>EEID</th>\n",
       "      <th>Full Name</th>\n",
       "      <th>Job Title</th>\n",
       "      <th>Department</th>\n",
       "      <th>Business Unit</th>\n",
       "      <th>Gender</th>\n",
       "      <th>Ethnicity</th>\n",
       "      <th>Age</th>\n",
       "      <th>Hire Date</th>\n",
       "      <th>Annual Salary</th>\n",
       "      <th>Bonus %</th>\n",
       "      <th>Country</th>\n",
       "      <th>City</th>\n",
       "      <th>Exit Date</th>\n",
       "    </tr>\n",
       "  </thead>\n",
       "  <tbody>\n",
       "    <tr>\n",
       "      <th>0</th>\n",
       "      <td>E02387</td>\n",
       "      <td>Emily Davis</td>\n",
       "      <td>Sr. Manger</td>\n",
       "      <td>IT</td>\n",
       "      <td>Research &amp; Development</td>\n",
       "      <td>Female</td>\n",
       "      <td>Black</td>\n",
       "      <td>55</td>\n",
       "      <td>2016-04-08</td>\n",
       "      <td>141604</td>\n",
       "      <td>0.15</td>\n",
       "      <td>United States</td>\n",
       "      <td>Seattle</td>\n",
       "      <td>2021-10-16 00:00:00.000000000</td>\n",
       "    </tr>\n",
       "    <tr>\n",
       "      <th>1</th>\n",
       "      <td>E04105</td>\n",
       "      <td>Theodore Dinh</td>\n",
       "      <td>Technical Architect</td>\n",
       "      <td>IT</td>\n",
       "      <td>Manufacturing</td>\n",
       "      <td>Male</td>\n",
       "      <td>Asian</td>\n",
       "      <td>59</td>\n",
       "      <td>1997-11-29</td>\n",
       "      <td>99975</td>\n",
       "      <td>0.00</td>\n",
       "      <td>China</td>\n",
       "      <td>Chongqing</td>\n",
       "      <td>2016-11-02 18:04:14.117647104</td>\n",
       "    </tr>\n",
       "    <tr>\n",
       "      <th>2</th>\n",
       "      <td>E02572</td>\n",
       "      <td>Luna Sanders</td>\n",
       "      <td>Director</td>\n",
       "      <td>Finance</td>\n",
       "      <td>Speciality Products</td>\n",
       "      <td>Female</td>\n",
       "      <td>Caucasian</td>\n",
       "      <td>50</td>\n",
       "      <td>2006-10-26</td>\n",
       "      <td>163099</td>\n",
       "      <td>0.20</td>\n",
       "      <td>United States</td>\n",
       "      <td>Chicago</td>\n",
       "      <td>2016-11-02 18:04:14.117647104</td>\n",
       "    </tr>\n",
       "    <tr>\n",
       "      <th>3</th>\n",
       "      <td>E02832</td>\n",
       "      <td>Penelope Jordan</td>\n",
       "      <td>Computer Systems Manager</td>\n",
       "      <td>IT</td>\n",
       "      <td>Manufacturing</td>\n",
       "      <td>Female</td>\n",
       "      <td>Caucasian</td>\n",
       "      <td>26</td>\n",
       "      <td>2019-09-27</td>\n",
       "      <td>84913</td>\n",
       "      <td>0.07</td>\n",
       "      <td>United States</td>\n",
       "      <td>Chicago</td>\n",
       "      <td>2016-11-02 18:04:14.117647104</td>\n",
       "    </tr>\n",
       "    <tr>\n",
       "      <th>4</th>\n",
       "      <td>E01639</td>\n",
       "      <td>Austin Vo</td>\n",
       "      <td>Sr. Analyst</td>\n",
       "      <td>Finance</td>\n",
       "      <td>Manufacturing</td>\n",
       "      <td>Male</td>\n",
       "      <td>Asian</td>\n",
       "      <td>55</td>\n",
       "      <td>1995-11-20</td>\n",
       "      <td>95409</td>\n",
       "      <td>0.00</td>\n",
       "      <td>United States</td>\n",
       "      <td>Phoenix</td>\n",
       "      <td>2016-11-02 18:04:14.117647104</td>\n",
       "    </tr>\n",
       "  </tbody>\n",
       "</table>\n",
       "</div>"
      ],
      "text/plain": [
       "     EEID        Full Name                 Job Title Department  \\\n",
       "0  E02387      Emily Davis                Sr. Manger         IT   \n",
       "1  E04105    Theodore Dinh       Technical Architect         IT   \n",
       "2  E02572     Luna Sanders                  Director    Finance   \n",
       "3  E02832  Penelope Jordan  Computer Systems Manager         IT   \n",
       "4  E01639        Austin Vo               Sr. Analyst    Finance   \n",
       "\n",
       "            Business Unit  Gender  Ethnicity  Age  Hire Date  Annual Salary  \\\n",
       "0  Research & Development  Female      Black   55 2016-04-08         141604   \n",
       "1           Manufacturing    Male      Asian   59 1997-11-29          99975   \n",
       "2     Speciality Products  Female  Caucasian   50 2006-10-26         163099   \n",
       "3           Manufacturing  Female  Caucasian   26 2019-09-27          84913   \n",
       "4           Manufacturing    Male      Asian   55 1995-11-20          95409   \n",
       "\n",
       "   Bonus %        Country       City                     Exit Date  \n",
       "0     0.15  United States    Seattle 2021-10-16 00:00:00.000000000  \n",
       "1     0.00          China  Chongqing 2016-11-02 18:04:14.117647104  \n",
       "2     0.20  United States    Chicago 2016-11-02 18:04:14.117647104  \n",
       "3     0.07  United States    Chicago 2016-11-02 18:04:14.117647104  \n",
       "4     0.00  United States    Phoenix 2016-11-02 18:04:14.117647104  "
      ]
     },
     "execution_count": 17,
     "metadata": {},
     "output_type": "execute_result"
    }
   ],
   "source": [
    "df[\"Exit Date\"] = df[\"Exit Date\"].fillna(df[\"Exit Date\"].mean())\n",
    "# gf[\"Ranking\"]=gf[\"Ranking\"].fillna(gf[\"Ranking\"].mean())\n",
    "df.head()"
   ]
  },
  {
   "cell_type": "code",
   "execution_count": 20,
   "id": "43169ea6-1636-4a13-a065-f39c012f05e5",
   "metadata": {},
   "outputs": [
    {
     "data": {
      "text/plain": [
       "np.int64(0)"
      ]
     },
     "execution_count": 20,
     "metadata": {},
     "output_type": "execute_result"
    }
   ],
   "source": [
    "df.isnull().sum().sum()"
   ]
  },
  {
   "cell_type": "code",
   "execution_count": 23,
   "id": "d99c7df7-7a5e-44b6-aa87-dcdde7e82075",
   "metadata": {},
   "outputs": [
    {
     "data": {
      "text/plain": [
       "np.int64(0)"
      ]
     },
     "execution_count": 23,
     "metadata": {},
     "output_type": "execute_result"
    }
   ],
   "source": [
    "df.duplicated().sum()"
   ]
  },
  {
   "cell_type": "code",
   "execution_count": 26,
   "id": "c92c59a9-9a46-4574-961e-5647505ae29c",
   "metadata": {},
   "outputs": [
    {
     "name": "stdout",
     "output_type": "stream",
     "text": [
      "113217.365\n"
     ]
    }
   ],
   "source": [
    "df[\"Annual Salary\"]\n",
    "gf=sum(df[\"Annual Salary\"])/len(df[\"Annual Salary\"])\n",
    "print(gf)"
   ]
  },
  {
   "cell_type": "code",
   "execution_count": 28,
   "id": "a5273fe1-8314-46e5-867f-d591e1743904",
   "metadata": {},
   "outputs": [
    {
     "name": "stdout",
     "output_type": "stream",
     "text": [
      "113217.365\n",
      "96557.0\n",
      "0     70165\n",
      "1    146140\n",
      "2    157057\n",
      "3    177443\n",
      "Name: Annual Salary, dtype: int64\n"
     ]
    }
   ],
   "source": [
    "print(df[\"Annual Salary\"].mean())\n",
    "print(df[\"Annual Salary\"].median())\n",
    "print(df[\"Annual Salary\"].mode())"
   ]
  },
  {
   "cell_type": "code",
   "execution_count": 29,
   "id": "7352c1ec-a66c-48f0-a971-bac453d80b7f",
   "metadata": {},
   "outputs": [
    {
     "name": "stdout",
     "output_type": "stream",
     "text": [
      "2867172578.5843596\n"
     ]
    }
   ],
   "source": [
    "print(df[\"Annual Salary\"].var())"
   ]
  },
  {
   "cell_type": "code",
   "execution_count": 30,
   "id": "60de4f23-a23f-4faa-ba51-562189222f3b",
   "metadata": {},
   "outputs": [
    {
     "name": "stdout",
     "output_type": "stream",
     "text": [
      "53545.98564397111\n"
     ]
    }
   ],
   "source": [
    "print(df[\"Annual Salary\"].std())"
   ]
  },
  {
   "cell_type": "code",
   "execution_count": 33,
   "id": "bec902ab-b189-46e4-a32f-06ca08bc9ca5",
   "metadata": {},
   "outputs": [
    {
     "name": "stdout",
     "output_type": "stream",
     "text": [
      "71430.25\n",
      "96557.0\n",
      "150782.25\n",
      "258498.0\n"
     ]
    }
   ],
   "source": [
    "print(np.percentile(df[\"Annual Salary\"],25))\n",
    "print(np.percentile(df[\"Annual Salary\"],50))\n",
    "print(np.percentile(df[\"Annual Salary\"],75))\n",
    "print(np.percentile(df[\"Annual Salary\"],100))"
   ]
  },
  {
   "cell_type": "code",
   "execution_count": 35,
   "id": "acbacf9e-ebbb-4366-97d9-5bd420bab755",
   "metadata": {},
   "outputs": [
    {
     "name": "stdout",
     "output_type": "stream",
     "text": [
      "71430.25\n",
      "96557.0\n",
      "150782.25\n",
      "258498.0\n"
     ]
    }
   ],
   "source": [
    "print(df[\"Annual Salary\"].quantile(.25))\n",
    "print(df[\"Annual Salary\"].quantile(.50))\n",
    "print(df[\"Annual Salary\"].quantile(.75))\n",
    "print(df[\"Annual Salary\"].quantile(1))"
   ]
  },
  {
   "cell_type": "code",
   "execution_count": null,
   "id": "5a01fe93-5a9f-4581-9eba-10cc717c09be",
   "metadata": {},
   "outputs": [],
   "source": []
  }
 ],
 "metadata": {
  "kernelspec": {
   "display_name": "Python [conda env:base] *",
   "language": "python",
   "name": "conda-base-py"
  },
  "language_info": {
   "codemirror_mode": {
    "name": "ipython",
    "version": 3
   },
   "file_extension": ".py",
   "mimetype": "text/x-python",
   "name": "python",
   "nbconvert_exporter": "python",
   "pygments_lexer": "ipython3",
   "version": "3.13.5"
  }
 },
 "nbformat": 4,
 "nbformat_minor": 5
}
