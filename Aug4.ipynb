{
 "cells": [
  {
   "cell_type": "markdown",
   "id": "34031a6c-532e-4ff7-9ad7-d91262eec73d",
   "metadata": {},
   "source": [
    "#### LISTS IN PYTHON\n",
    ":-Build in datatype that stores set of values in it.\n",
    ":-It can store different datatypes in it\n"
   ]
  },
  {
   "cell_type": "code",
   "execution_count": 1,
   "id": "54cfeee8-0e4e-40ff-bbb5-38049ac7e853",
   "metadata": {},
   "outputs": [
    {
     "name": "stdout",
     "output_type": "stream",
     "text": [
      "<class 'list'>\n"
     ]
    }
   ],
   "source": [
    "marks=[23,34,45,56,7,65,45,34,6723,23,56,78,22]\n",
    "print(type(marks))"
   ]
  },
  {
   "cell_type": "code",
   "execution_count": 2,
   "id": "9217aba7-3fca-417d-b5f1-56c8c496a12e",
   "metadata": {},
   "outputs": [
    {
     "name": "stdout",
     "output_type": "stream",
     "text": [
      "[23, 34, 45, 56, 7, 65, 45, 34, 6723, 23, 56, 78, 22]\n"
     ]
    }
   ],
   "source": [
    "print(marks)"
   ]
  },
  {
   "cell_type": "code",
   "execution_count": 4,
   "id": "204c2500-c555-4e4c-a18d-75f2dbc9c90a",
   "metadata": {},
   "outputs": [
    {
     "name": "stdout",
     "output_type": "stream",
     "text": [
      "23\n",
      "34\n"
     ]
    }
   ],
   "source": [
    "print(marks[0])\n",
    "print(marks[1])"
   ]
  },
  {
   "cell_type": "code",
   "execution_count": 68,
   "id": "ad378cbb-ca07-413c-b1e5-92eea66ed326",
   "metadata": {},
   "outputs": [
    {
     "name": "stdout",
     "output_type": "stream",
     "text": [
      "['Kunnal', 'Khambayat', 7, 2004, 21, 'Dilip']\n",
      "2004\n",
      "['Kunnal', 'Khambayat', 7, 'Analyst', 21, 'Dilip']\n",
      "['Kunnal', 'Khambayat', 7, 'Analyst', 21, 'Dilip', 67]\n",
      "[4, 7, 7, 9, 23, 23, 34, 45, 65, 65, 65, 89, 90, 98, 123]\n",
      "[123, 98, 90, 89, 65, 65, 65, 45, 34, 23, 23, 9, 7, 7, 4]\n",
      "['e', 'd', 'c', 'b', 'a']\n",
      "[77, 34, 67, 78, 9, 76, 89]\n",
      "[77, 34, 67, 78, 76, 89]\n"
     ]
    }
   ],
   "source": [
    "details=[\"Kunnal\",\"Khambayat\",7,2004,21,\"Dilip\"]\n",
    "print(details)\n",
    "print(details[3])\n",
    "details[3]=\"Analyst\"\n",
    "print(details)\n",
    "\n",
    "#append is too add a value in last of the list\n",
    "details.append(67)\n",
    "print(details)\n",
    "\n",
    "\n",
    "# Sort is use to arrange list into assending order \n",
    "w=[23,34,45,65,7,98,9,65,23,123,4,65,7,89,90]\n",
    "w.sort()\n",
    "print(w)\n",
    "\n",
    "# todo the same thing in reverse we use sort(reverse = True)\n",
    "w.sort(reverse = True)\n",
    "print(w)\n",
    "\n",
    "#reverse is used to make list reverse\n",
    "r=[\"a\",\"b\",\"c\",\"d\",\"e\"]\n",
    "r.reverse()\n",
    "print(r)\n",
    "\n",
    "#Insert is used at values at a particular place\n",
    "i=[23,34,67,78,9,76,89]\n",
    "i.insert(1,77)\n",
    "i.pop(0) # Delete value from particular places\n",
    "print(i)\n",
    "i.remove(9)\n",
    "print(i)"
   ]
  },
  {
   "cell_type": "code",
   "execution_count": null,
   "id": "b2cee6ba-8714-474b-aa28-87505f75b80c",
   "metadata": {},
   "outputs": [],
   "source": []
  },
  {
   "cell_type": "code",
   "execution_count": null,
   "id": "05461d63-cc71-413f-bc56-9383b23976e4",
   "metadata": {},
   "outputs": [],
   "source": []
  },
  {
   "cell_type": "markdown",
   "id": "5be7ac23-8bbc-44ee-877c-c046e1c11c0b",
   "metadata": {},
   "source": [
    "## TUPLE"
   ]
  },
  {
   "cell_type": "code",
   "execution_count": 31,
   "id": "89a78ef2-6bfa-4fab-b89f-eb3f6f381b86",
   "metadata": {},
   "outputs": [
    {
     "data": {
      "text/plain": [
       "3"
      ]
     },
     "execution_count": 31,
     "metadata": {},
     "output_type": "execute_result"
    }
   ],
   "source": [
    "#This are the same inbuild datatype are list but it is immuteable\n",
    "\n",
    "tup=(\"Kunal\",\"Dilip\",77,77,77)\n",
    "tup.index(\"Dilip\") #Provides the index value \n",
    "tup.count(77)  #provides how many time this has occour in list"
   ]
  },
  {
   "cell_type": "code",
   "execution_count": 35,
   "id": "f4a63d76-1fad-4c0b-9214-1fc442f41d45",
   "metadata": {},
   "outputs": [],
   "source": [
    "##  EXERSISE\n"
   ]
  },
  {
   "cell_type": "code",
   "execution_count": 37,
   "id": "7b46201b-d67a-4372-b3c6-0fd715eaa456",
   "metadata": {},
   "outputs": [
    {
     "name": "stdin",
     "output_type": "stream",
     "text": [
      "Enter 1st movie name rrr\n",
      "Enter 2nd movie name pk\n",
      "Enter 3rd movie name one\n",
      "Enter 4th movie name tarzan\n"
     ]
    },
    {
     "name": "stdout",
     "output_type": "stream",
     "text": [
      "['rrr', 'pk', 'one', 'tarzan']\n"
     ]
    }
   ],
   "source": [
    "movies=[]\n",
    "movies.append(input(\"Enter 1st movie name\"))\n",
    "movies.append(input(\"Enter 2nd movie name\"))\n",
    "movies.append(input(\"Enter 3rd movie name\"))\n",
    "movies.append(input(\"Enter 4th movie name\"))\n",
    "print(movies)"
   ]
  },
  {
   "cell_type": "code",
   "execution_count": 40,
   "id": "71e5a6cd-0785-4c0e-8792-d931b75ac9d9",
   "metadata": {},
   "outputs": [
    {
     "name": "stdout",
     "output_type": "stream",
     "text": [
      "35\n",
      "2\n"
     ]
    }
   ],
   "source": [
    "r=2\n",
    "t=33\n",
    "print(r+t)\n",
    "print(r%t)"
   ]
  },
  {
   "cell_type": "code",
   "execution_count": 41,
   "id": "f62bc94d-6c06-41a9-9148-9b12a02e7fe8",
   "metadata": {},
   "outputs": [
    {
     "name": "stdin",
     "output_type": "stream",
     "text": [
      "Enter Something 34\n"
     ]
    },
    {
     "name": "stdout",
     "output_type": "stream",
     "text": [
      "<class 'str'>\n"
     ]
    }
   ],
   "source": [
    "k=input(\"Enter Something\")\n",
    "print(type(k))"
   ]
  },
  {
   "cell_type": "code",
   "execution_count": 42,
   "id": "8199a176-18db-4c10-912d-43f86a5cbeaf",
   "metadata": {},
   "outputs": [
    {
     "name": "stdout",
     "output_type": "stream",
     "text": [
      "False\n"
     ]
    }
   ],
   "source": [
    "a=34\n",
    "b=80\n",
    "print(a>b)\n"
   ]
  },
  {
   "cell_type": "code",
   "execution_count": 43,
   "id": "d3ab255e-69e0-4935-bfdd-f4dd85266ec4",
   "metadata": {},
   "outputs": [
    {
     "name": "stdin",
     "output_type": "stream",
     "text": [
      "Enter your no... 40\n",
      "Enter your 2nd no... 40\n"
     ]
    },
    {
     "name": "stdout",
     "output_type": "stream",
     "text": [
      "40.0\n"
     ]
    }
   ],
   "source": [
    "w=int(input(\"Enter your no...\"))\n",
    "o=int(input(\"Enter your 2nd no...\"))\n",
    "y=(w+o)/2\n",
    "print(y)"
   ]
  },
  {
   "cell_type": "code",
   "execution_count": 45,
   "id": "f7580c5b-2a47-4757-bb17-08b0aba038ad",
   "metadata": {},
   "outputs": [
    {
     "name": "stdin",
     "output_type": "stream",
     "text": [
      "Enter no.. to find square 25\n"
     ]
    },
    {
     "name": "stdout",
     "output_type": "stream",
     "text": [
      "625\n"
     ]
    }
   ],
   "source": [
    "s=int(input(\"Enter no.. to find square\"))\n",
    "h=s*s\n",
    "print(h)"
   ]
  },
  {
   "cell_type": "code",
   "execution_count": 61,
   "id": "7130e42e-e90d-4f75-a4d9-a3718dc44d29",
   "metadata": {},
   "outputs": [],
   "source": [
    "# target=\"Hello Everyone present here\"\n",
    "# print(target[-18:-1])\n",
    "# print(target.endswith(\"ere\"))\n",
    "# print(target.startswith(\"Hell\"))\n",
    "# print(target.capitalize())\n",
    "# print(target.find(\"here\"))\n",
    "# print(target.replace(\"here\",\"there\"))"
   ]
  },
  {
   "cell_type": "code",
   "execution_count": 62,
   "id": "022a1e27-fd3e-4dac-8bd9-fa6f5f721901",
   "metadata": {},
   "outputs": [],
   "source": [
    "# goo=input(\"Enter your name plzzz!!!!!\")\n",
    "# print(\"Good Morning \",goo)"
   ]
  },
  {
   "cell_type": "code",
   "execution_count": 63,
   "id": "83848fe6-1cdf-4efb-b049-0c2629ca997e",
   "metadata": {},
   "outputs": [],
   "source": [
    "# name=input(\"Enter your name here\")\n",
    "# date=(input(\"E nter Date here\"))\n",
    "# print(f'''HEllo {name} \n",
    "#         you are selected\n",
    "#         {date}''')"
   ]
  },
  {
   "cell_type": "code",
   "execution_count": null,
   "id": "faa7ab81-97b1-472e-a9bb-3ed4886ab321",
   "metadata": {},
   "outputs": [],
   "source": []
  },
  {
   "cell_type": "code",
   "execution_count": null,
   "id": "5145b5ff-c5a3-4e3e-933f-405699816e33",
   "metadata": {},
   "outputs": [],
   "source": []
  },
  {
   "cell_type": "code",
   "execution_count": null,
   "id": "4e14d065-35d6-49c9-a617-a901ef7ecab3",
   "metadata": {},
   "outputs": [],
   "source": []
  },
  {
   "cell_type": "code",
   "execution_count": null,
   "id": "caa60142-4702-4ba7-aaf4-6656ffb90854",
   "metadata": {},
   "outputs": [],
   "source": []
  }
 ],
 "metadata": {
  "kernelspec": {
   "display_name": "Python [conda env:base] *",
   "language": "python",
   "name": "conda-base-py"
  },
  "language_info": {
   "codemirror_mode": {
    "name": "ipython",
    "version": 3
   },
   "file_extension": ".py",
   "mimetype": "text/x-python",
   "name": "python",
   "nbconvert_exporter": "python",
   "pygments_lexer": "ipython3",
   "version": "3.13.5"
  }
 },
 "nbformat": 4,
 "nbformat_minor": 5
}
